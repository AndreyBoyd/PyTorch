{
 "cells": [
  {
   "cell_type": "code",
   "execution_count": 1,
   "metadata": {},
   "outputs": [],
   "source": [
    "import torch"
   ]
  },
  {
   "cell_type": "code",
   "execution_count": 2,
   "metadata": {},
   "outputs": [
    {
     "data": {
      "text/plain": [
       "('torch.FloatTensor',\n",
       " tensor([[[0.5106, 0.6484, 0.5123, 0.5823, 0.7242],\n",
       "          [0.5913, 0.4826, 0.4921, 0.4019, 0.6926],\n",
       "          [0.2064, 0.1134, 0.1811, 0.5040, 0.3958],\n",
       "          [0.1522, 0.4380, 0.4583, 0.8719, 0.2302]],\n",
       " \n",
       "         [[0.3952, 0.8780, 0.9117, 0.3573, 0.9847],\n",
       "          [0.5619, 0.7531, 0.9910, 0.0544, 0.0456],\n",
       "          [0.9372, 0.6297, 0.9792, 0.3397, 0.8028],\n",
       "          [0.1934, 0.2093, 0.5388, 0.1627, 0.7246]],\n",
       " \n",
       "         [[0.3642, 0.7625, 0.6654, 0.5385, 0.7845],\n",
       "          [0.8326, 0.2648, 0.9314, 0.6927, 0.2298],\n",
       "          [0.7027, 0.8443, 0.9355, 0.8404, 0.5842],\n",
       "          [0.1747, 0.4476, 0.0140, 0.4312, 0.1219]]]))"
      ]
     },
     "execution_count": 2,
     "metadata": {},
     "output_type": "execute_result"
    }
   ],
   "source": [
    "# Создайте случайный FloatTensor размера 3x4x5\n",
    "x = torch.rand(3, 4, 5).type(torch.float32)\n",
    "x.type(), x"
   ]
  },
  {
   "cell_type": "code",
   "execution_count": 3,
   "metadata": {},
   "outputs": [
    {
     "data": {
      "text/plain": [
       "torch.Size([3, 4, 5])"
      ]
     },
     "execution_count": 3,
     "metadata": {},
     "output_type": "execute_result"
    }
   ],
   "source": [
    "# Выведите его форму (shape)\n",
    "x.shape"
   ]
  },
  {
   "cell_type": "code",
   "execution_count": 4,
   "metadata": {},
   "outputs": [
    {
     "data": {
      "text/plain": [
       "(torch.Size([6, 10]),\n",
       " tensor([[0.5106, 0.6484, 0.5123, 0.5823, 0.7242, 0.5913, 0.4826, 0.4921, 0.4019,\n",
       "          0.6926],\n",
       "         [0.2064, 0.1134, 0.1811, 0.5040, 0.3958, 0.1522, 0.4380, 0.4583, 0.8719,\n",
       "          0.2302],\n",
       "         [0.3952, 0.8780, 0.9117, 0.3573, 0.9847, 0.5619, 0.7531, 0.9910, 0.0544,\n",
       "          0.0456],\n",
       "         [0.9372, 0.6297, 0.9792, 0.3397, 0.8028, 0.1934, 0.2093, 0.5388, 0.1627,\n",
       "          0.7246],\n",
       "         [0.3642, 0.7625, 0.6654, 0.5385, 0.7845, 0.8326, 0.2648, 0.9314, 0.6927,\n",
       "          0.2298],\n",
       "         [0.7027, 0.8443, 0.9355, 0.8404, 0.5842, 0.1747, 0.4476, 0.0140, 0.4312,\n",
       "          0.1219]]))"
      ]
     },
     "execution_count": 4,
     "metadata": {},
     "output_type": "execute_result"
    }
   ],
   "source": [
    "# Приведите его к форме 6 X 10\n",
    "x_resized = torch.reshape(x, (6, 10))\n",
    "x_resized.shape, x_resized"
   ]
  },
  {
   "cell_type": "code",
   "execution_count": 5,
   "metadata": {},
   "outputs": [
    {
     "data": {
      "text/plain": [
       "tensor([[[0.5106, 2.5937, 1.0247, 1.1647, 0.7242],\n",
       "         [0.5913, 1.9305, 0.9843, 0.8038, 0.6926],\n",
       "         [0.2064, 0.4537, 0.3622, 1.0079, 0.3958],\n",
       "         [0.1522, 1.7519, 0.9166, 1.7439, 0.2302]],\n",
       "\n",
       "        [[0.3952, 3.5121, 1.8234, 0.7146, 0.9847],\n",
       "         [0.5619, 3.0124, 1.9820, 0.1087, 0.0456],\n",
       "         [0.9372, 2.5188, 1.9583, 0.6794, 0.8028],\n",
       "         [0.1934, 0.8373, 1.0776, 0.3254, 0.7246]],\n",
       "\n",
       "        [[0.3642, 3.0501, 1.3308, 1.0770, 0.7845],\n",
       "         [0.8326, 1.0590, 1.8627, 1.3854, 0.2298],\n",
       "         [0.7027, 3.3772, 1.8710, 1.6807, 0.5842],\n",
       "         [0.1747, 1.7902, 0.0280, 0.8624, 0.1219]]])"
      ]
     },
     "execution_count": 5,
     "metadata": {},
     "output_type": "execute_result"
    }
   ],
   "source": [
    "# Умножьте его на вектор [1, 4, 2, 2, 1] поэлементно\n",
    "a = torch.FloatTensor([1, 4, 2, 2, 1])\n",
    "x_mul = torch.mul(x, a)\n",
    "x_mul"
   ]
  },
  {
   "cell_type": "code",
   "execution_count": 6,
   "metadata": {},
   "outputs": [
    {
     "data": {
      "text/plain": [
       "(torch.Size([6, 6]),\n",
       " tensor([[3.2732, 1.8886, 3.3963, 3.2155, 3.4192, 2.8820],\n",
       "         [1.8886, 1.7372, 1.8435, 1.6078, 2.1905, 1.6980],\n",
       "         [3.3963, 1.8435, 4.7257, 3.5700, 4.0234, 3.2256],\n",
       "         [3.2155, 1.6078, 3.5700, 3.9166, 3.2833, 3.1543],\n",
       "         [3.4192, 2.1905, 4.0234, 3.2833, 4.2258, 3.0369],\n",
       "         [2.8820, 1.6980, 3.2256, 3.1543, 3.0369, 3.5612]]))"
      ]
     },
     "execution_count": 6,
     "metadata": {},
     "output_type": "execute_result"
    }
   ],
   "source": [
    "# Умножьте тензор матрично на себя, чтобы результат был размерности 6x6\n",
    "y = torch.matmul(x_resized, torch.transpose(x_resized, 0, 1))\n",
    "y.shape, y"
   ]
  },
  {
   "cell_type": "code",
   "execution_count": 7,
   "metadata": {},
   "outputs": [
    {
     "data": {
      "text/plain": [
       "tensor([-148.5000], grad_fn=<SubBackward0>)"
      ]
     },
     "execution_count": 7,
     "metadata": {},
     "output_type": "execute_result"
    }
   ],
   "source": [
    "# Посчитайте производную функции y = x**3 + z - 75t в точке (1, 0.5, 2)\n",
    "from torch.autograd import Variable\n",
    "\n",
    "x = Variable(torch.FloatTensor([1.]), requires_grad = True)\n",
    "z = Variable(torch.FloatTensor([0.5]), requires_grad = True)\n",
    "t = Variable(torch.FloatTensor([2.]), requires_grad = True)\n",
    "\n",
    "y = x**3 + z - 75 * t\n",
    "y"
   ]
  },
  {
   "cell_type": "code",
   "execution_count": 8,
   "metadata": {},
   "outputs": [
    {
     "data": {
      "text/plain": [
       "(tensor([3.]), tensor([1.]), tensor([-75.]))"
      ]
     },
     "execution_count": 8,
     "metadata": {},
     "output_type": "execute_result"
    }
   ],
   "source": [
    "y.backward([x, z, t])\n",
    "x.grad, z.grad, t.grad"
   ]
  },
  {
   "cell_type": "code",
   "execution_count": 9,
   "metadata": {},
   "outputs": [
    {
     "data": {
      "text/plain": [
       "tensor(-71.)"
      ]
     },
     "execution_count": 9,
     "metadata": {},
     "output_type": "execute_result"
    }
   ],
   "source": [
    "torch.stack([x.grad, z.grad, t.grad]).sum()"
   ]
  },
  {
   "cell_type": "code",
   "execution_count": 10,
   "metadata": {},
   "outputs": [
    {
     "data": {
      "text/plain": [
       "tensor([[1., 1., 1., 1., 1., 1.],\n",
       "        [1., 1., 1., 1., 1., 1.],\n",
       "        [1., 1., 1., 1., 1., 1.],\n",
       "        [1., 1., 1., 1., 1., 1.],\n",
       "        [1., 1., 1., 1., 1., 1.]])"
      ]
     },
     "execution_count": 10,
     "metadata": {},
     "output_type": "execute_result"
    }
   ],
   "source": [
    "# Создайте единичный тензор размера 5x6\n",
    "x_one = torch.ones(5, 6)\n",
    "x_one"
   ]
  },
  {
   "cell_type": "code",
   "execution_count": 11,
   "metadata": {},
   "outputs": [
    {
     "data": {
      "text/plain": [
       "array([[1., 1., 1., 1., 1., 1.],\n",
       "       [1., 1., 1., 1., 1., 1.],\n",
       "       [1., 1., 1., 1., 1., 1.],\n",
       "       [1., 1., 1., 1., 1., 1.],\n",
       "       [1., 1., 1., 1., 1., 1.]], dtype=float32)"
      ]
     },
     "execution_count": 11,
     "metadata": {},
     "output_type": "execute_result"
    }
   ],
   "source": [
    "# Переведите его в формат numpy\n",
    "import numpy as np\n",
    "np.array(x_one)"
   ]
  },
  {
   "cell_type": "code",
   "execution_count": 12,
   "metadata": {},
   "outputs": [],
   "source": [
    "# Давайте теперь пооптимизируем: возьмите функцию y = x**w1 - 2 * x**2 + 5\n",
    "# Посчитайте "
   ]
  },
  {
   "cell_type": "code",
   "execution_count": 13,
   "metadata": {},
   "outputs": [],
   "source": [
    "from torch import nn \n",
    "from torch import optim"
   ]
  },
  {
   "cell_type": "code",
   "execution_count": 14,
   "metadata": {},
   "outputs": [
    {
     "data": {
      "text/plain": [
       "(tensor([-0.5995], requires_grad=True),\n",
       " tensor([1.1942], requires_grad=True),\n",
       " tensor([0.4223]))"
      ]
     },
     "execution_count": 14,
     "metadata": {},
     "output_type": "execute_result"
    }
   ],
   "source": [
    "w1 =  Variable(torch.randn(1), requires_grad = True)\n",
    "\n",
    "optimizer = torch.optim.Adam([w1], lr=0.001)\n",
    "criterion = nn.MSELoss()\n",
    "\n",
    "x = Variable(torch.randn(1), requires_grad = True)\n",
    "y = Variable(torch.randn(1), requires_grad = False)\n",
    "\n",
    "w1, x, y"
   ]
  },
  {
   "cell_type": "code",
   "execution_count": 15,
   "metadata": {},
   "outputs": [
    {
     "name": "stdout",
     "output_type": "stream",
     "text": [
      "loss:  6.889292240142822\n"
     ]
    }
   ],
   "source": [
    "optimizer.zero_grad()\n",
    "pred = x**w1 - 2 * x**2 + 5\n",
    "loss = criterion(pred, y)\n",
    "print('loss: ', loss.item())"
   ]
  },
  {
   "cell_type": "code",
   "execution_count": 16,
   "metadata": {},
   "outputs": [
    {
     "data": {
      "text/plain": [
       "tensor(6.8893, grad_fn=<MseLossBackward>)"
      ]
     },
     "execution_count": 16,
     "metadata": {},
     "output_type": "execute_result"
    }
   ],
   "source": [
    "loss.backward()\n",
    "loss"
   ]
  },
  {
   "cell_type": "code",
   "execution_count": 17,
   "metadata": {},
   "outputs": [
    {
     "data": {
      "text/plain": [
       "tensor([-0.6005], requires_grad=True)"
      ]
     },
     "execution_count": 17,
     "metadata": {},
     "output_type": "execute_result"
    }
   ],
   "source": [
    "optimizer.step()\n",
    "w1"
   ]
  },
  {
   "cell_type": "code",
   "execution_count": null,
   "metadata": {},
   "outputs": [],
   "source": []
  }
 ],
 "metadata": {
  "kernelspec": {
   "display_name": "Python 3 (ipykernel)",
   "language": "python",
   "name": "python3"
  },
  "language_info": {
   "codemirror_mode": {
    "name": "ipython",
    "version": 3
   },
   "file_extension": ".py",
   "mimetype": "text/x-python",
   "name": "python",
   "nbconvert_exporter": "python",
   "pygments_lexer": "ipython3",
   "version": "3.8.5"
  }
 },
 "nbformat": 4,
 "nbformat_minor": 2
}
