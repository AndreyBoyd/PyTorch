{
 "cells": [
  {
   "cell_type": "markdown",
   "id": "3cd87b4c",
   "metadata": {},
   "source": [
    "### Домашняя работа к уроку 6"
   ]
  },
  {
   "cell_type": "code",
   "execution_count": 1,
   "id": "d10898c7",
   "metadata": {},
   "outputs": [],
   "source": [
    "import pandas as pd\n",
    "import numpy as np\n",
    "\n",
    "from string import punctuation\n",
    "from stop_words import get_stop_words\n",
    "from pymorphy2 import MorphAnalyzer\n",
    "import re\n",
    "\n",
    "import nltk\n",
    "from nltk.tokenize import word_tokenize\n",
    "from nltk.probability import FreqDist\n",
    "\n",
    "import random\n",
    "import torch\n",
    "import torch.nn as nn\n",
    "\n",
    "from torch.utils.data import DataLoader, Dataset\n",
    "import matplotlib.pyplot as plt"
   ]
  },
  {
   "cell_type": "markdown",
   "id": "d4de42ad",
   "metadata": {},
   "source": [
    "#### Подготовка  данных"
   ]
  },
  {
   "cell_type": "code",
   "execution_count": 2,
   "id": "191518b5",
   "metadata": {},
   "outputs": [],
   "source": [
    "max_words = 2000\n",
    "max_len = 40\n",
    "num_classes = 1\n",
    "\n",
    "# Training\n",
    "epochs = 20\n",
    "batch_size = 512\n",
    "print_batch_n = 100"
   ]
  },
  {
   "cell_type": "code",
   "execution_count": 3,
   "id": "9cce6490",
   "metadata": {},
   "outputs": [
    {
     "data": {
      "text/html": [
       "<div>\n",
       "<style scoped>\n",
       "    .dataframe tbody tr th:only-of-type {\n",
       "        vertical-align: middle;\n",
       "    }\n",
       "\n",
       "    .dataframe tbody tr th {\n",
       "        vertical-align: top;\n",
       "    }\n",
       "\n",
       "    .dataframe thead th {\n",
       "        text-align: right;\n",
       "    }\n",
       "</style>\n",
       "<table border=\"1\" class=\"dataframe\">\n",
       "  <thead>\n",
       "    <tr style=\"text-align: right;\">\n",
       "      <th></th>\n",
       "      <th>Rating</th>\n",
       "      <th>Content</th>\n",
       "      <th>Date</th>\n",
       "    </tr>\n",
       "  </thead>\n",
       "  <tbody>\n",
       "    <tr>\n",
       "      <th>0</th>\n",
       "      <td>5</td>\n",
       "      <td>It just works!</td>\n",
       "      <td>2017-08-14</td>\n",
       "    </tr>\n",
       "    <tr>\n",
       "      <th>1</th>\n",
       "      <td>4</td>\n",
       "      <td>В целом удобноное приложение...из минусов хотя...</td>\n",
       "      <td>2017-08-14</td>\n",
       "    </tr>\n",
       "    <tr>\n",
       "      <th>2</th>\n",
       "      <td>5</td>\n",
       "      <td>Отлично все</td>\n",
       "      <td>2017-08-14</td>\n",
       "    </tr>\n",
       "    <tr>\n",
       "      <th>3</th>\n",
       "      <td>5</td>\n",
       "      <td>Стал зависать на 1% работы антивируса. Дальше ...</td>\n",
       "      <td>2017-08-14</td>\n",
       "    </tr>\n",
       "    <tr>\n",
       "      <th>4</th>\n",
       "      <td>5</td>\n",
       "      <td>Очень удобно, работает быстро.</td>\n",
       "      <td>2017-08-14</td>\n",
       "    </tr>\n",
       "    <tr>\n",
       "      <th>...</th>\n",
       "      <td>...</td>\n",
       "      <td>...</td>\n",
       "      <td>...</td>\n",
       "    </tr>\n",
       "    <tr>\n",
       "      <th>20654</th>\n",
       "      <td>1</td>\n",
       "      <td>Ну и шляпа,с роот правами бесполезная прога,ра...</td>\n",
       "      <td>2017-06-01</td>\n",
       "    </tr>\n",
       "    <tr>\n",
       "      <th>20655</th>\n",
       "      <td>5</td>\n",
       "      <td>Ок</td>\n",
       "      <td>2017-06-01</td>\n",
       "    </tr>\n",
       "    <tr>\n",
       "      <th>20656</th>\n",
       "      <td>4</td>\n",
       "      <td>Доволен</td>\n",
       "      <td>2017-06-01</td>\n",
       "    </tr>\n",
       "    <tr>\n",
       "      <th>20657</th>\n",
       "      <td>1</td>\n",
       "      <td>Песопаснасть, рут ни нужын</td>\n",
       "      <td>2017-06-01</td>\n",
       "    </tr>\n",
       "    <tr>\n",
       "      <th>20658</th>\n",
       "      <td>5</td>\n",
       "      <td>Сбербанк бомбовая компания на сегодняшний день...</td>\n",
       "      <td>2017-06-01</td>\n",
       "    </tr>\n",
       "  </tbody>\n",
       "</table>\n",
       "<p>20659 rows × 3 columns</p>\n",
       "</div>"
      ],
      "text/plain": [
       "       Rating                                            Content        Date\n",
       "0           5                                     It just works!  2017-08-14\n",
       "1           4  В целом удобноное приложение...из минусов хотя...  2017-08-14\n",
       "2           5                                        Отлично все  2017-08-14\n",
       "3           5  Стал зависать на 1% работы антивируса. Дальше ...  2017-08-14\n",
       "4           5                     Очень удобно, работает быстро.  2017-08-14\n",
       "...       ...                                                ...         ...\n",
       "20654       1  Ну и шляпа,с роот правами бесполезная прога,ра...  2017-06-01\n",
       "20655       5                                                 Ок  2017-06-01\n",
       "20656       4                                            Доволен  2017-06-01\n",
       "20657       1                         Песопаснасть, рут ни нужын  2017-06-01\n",
       "20658       5  Сбербанк бомбовая компания на сегодняшний день...  2017-06-01\n",
       "\n",
       "[20659 rows x 3 columns]"
      ]
     },
     "execution_count": 3,
     "metadata": {},
     "output_type": "execute_result"
    }
   ],
   "source": [
    "# предварительно преобразовал файл \"отзывы за лето.xsl\" в feedbacks.csv c кодировкой UTF-8 чтобы здесь не городить огород.\n",
    "df = pd.read_csv(\"data5/feedbacks.csv\") \n",
    "df"
   ]
  },
  {
   "cell_type": "code",
   "execution_count": 4,
   "id": "85b67dca",
   "metadata": {},
   "outputs": [
    {
     "data": {
      "text/html": [
       "<div>\n",
       "<style scoped>\n",
       "    .dataframe tbody tr th:only-of-type {\n",
       "        vertical-align: middle;\n",
       "    }\n",
       "\n",
       "    .dataframe tbody tr th {\n",
       "        vertical-align: top;\n",
       "    }\n",
       "\n",
       "    .dataframe thead th {\n",
       "        text-align: right;\n",
       "    }\n",
       "</style>\n",
       "<table border=\"1\" class=\"dataframe\">\n",
       "  <thead>\n",
       "    <tr style=\"text-align: right;\">\n",
       "      <th></th>\n",
       "      <th>Rating</th>\n",
       "      <th>Content</th>\n",
       "    </tr>\n",
       "  </thead>\n",
       "  <tbody>\n",
       "    <tr>\n",
       "      <th>0</th>\n",
       "      <td>5</td>\n",
       "      <td>It just works!</td>\n",
       "    </tr>\n",
       "    <tr>\n",
       "      <th>1</th>\n",
       "      <td>4</td>\n",
       "      <td>В целом удобноное приложение...из минусов хотя...</td>\n",
       "    </tr>\n",
       "    <tr>\n",
       "      <th>2</th>\n",
       "      <td>5</td>\n",
       "      <td>Отлично все</td>\n",
       "    </tr>\n",
       "    <tr>\n",
       "      <th>3</th>\n",
       "      <td>5</td>\n",
       "      <td>Стал зависать на 1% работы антивируса. Дальше ...</td>\n",
       "    </tr>\n",
       "    <tr>\n",
       "      <th>4</th>\n",
       "      <td>5</td>\n",
       "      <td>Очень удобно, работает быстро.</td>\n",
       "    </tr>\n",
       "  </tbody>\n",
       "</table>\n",
       "</div>"
      ],
      "text/plain": [
       "   Rating                                            Content\n",
       "0       5                                     It just works!\n",
       "1       4  В целом удобноное приложение...из минусов хотя...\n",
       "2       5                                        Отлично все\n",
       "3       5  Стал зависать на 1% работы антивируса. Дальше ...\n",
       "4       5                     Очень удобно, работает быстро."
      ]
     },
     "execution_count": 4,
     "metadata": {},
     "output_type": "execute_result"
    }
   ],
   "source": [
    "df = df.drop(['Date'], axis='columns')\n",
    "df.head(5)"
   ]
  },
  {
   "cell_type": "code",
   "execution_count": 5,
   "id": "a49857db",
   "metadata": {},
   "outputs": [],
   "source": [
    "# Разделим данные на 3 части\n",
    "test_data_size = 1000\n",
    "test_data_val_size = 5000\n",
    "\n",
    "df_train = df[:-test_data_size]\n",
    "df_test = df[-test_data_size:]\n",
    "df_val = df[-test_data_val_size:]"
   ]
  },
  {
   "cell_type": "code",
   "execution_count": 6,
   "id": "8183ce4a",
   "metadata": {},
   "outputs": [],
   "source": [
    "# сохраним данные в csv\n",
    "# df_train.to_csv('data5/train.csv')\n",
    "# df_test.to_csv('data5/test.csv')\n",
    "# df_val.to_csv('data5/val.csv')"
   ]
  },
  {
   "cell_type": "code",
   "execution_count": 7,
   "id": "855c551e",
   "metadata": {},
   "outputs": [],
   "source": [
    "df_train = pd.read_csv(\"data5/train.csv\")\n",
    "df_test = pd.read_csv(\"data5/test.csv\")\n",
    "df_val = pd.read_csv(\"data5/val.csv\")"
   ]
  },
  {
   "cell_type": "code",
   "execution_count": 8,
   "id": "ead599aa",
   "metadata": {},
   "outputs": [
    {
     "data": {
      "text/html": [
       "<div>\n",
       "<style scoped>\n",
       "    .dataframe tbody tr th:only-of-type {\n",
       "        vertical-align: middle;\n",
       "    }\n",
       "\n",
       "    .dataframe tbody tr th {\n",
       "        vertical-align: top;\n",
       "    }\n",
       "\n",
       "    .dataframe thead th {\n",
       "        text-align: right;\n",
       "    }\n",
       "</style>\n",
       "<table border=\"1\" class=\"dataframe\">\n",
       "  <thead>\n",
       "    <tr style=\"text-align: right;\">\n",
       "      <th></th>\n",
       "      <th>Unnamed: 0</th>\n",
       "      <th>Rating</th>\n",
       "      <th>Content</th>\n",
       "    </tr>\n",
       "  </thead>\n",
       "  <tbody>\n",
       "    <tr>\n",
       "      <th>0</th>\n",
       "      <td>0</td>\n",
       "      <td>5</td>\n",
       "      <td>it just works</td>\n",
       "    </tr>\n",
       "    <tr>\n",
       "      <th>1</th>\n",
       "      <td>1</td>\n",
       "      <td>4</td>\n",
       "      <td>целое удобноной приложениеиз минус хотеть боль...</td>\n",
       "    </tr>\n",
       "    <tr>\n",
       "      <th>2</th>\n",
       "      <td>2</td>\n",
       "      <td>5</td>\n",
       "      <td>отлично</td>\n",
       "    </tr>\n",
       "    <tr>\n",
       "      <th>3</th>\n",
       "      <td>3</td>\n",
       "      <td>5</td>\n",
       "      <td>зависать 1 работа антивирус ранее пользоваться...</td>\n",
       "    </tr>\n",
       "    <tr>\n",
       "      <th>4</th>\n",
       "      <td>4</td>\n",
       "      <td>5</td>\n",
       "      <td>удобно работать быстро</td>\n",
       "    </tr>\n",
       "  </tbody>\n",
       "</table>\n",
       "</div>"
      ],
      "text/plain": [
       "   Unnamed: 0  Rating                                            Content\n",
       "0           0       5                                      it just works\n",
       "1           1       4  целое удобноной приложениеиз минус хотеть боль...\n",
       "2           2       5                                            отлично\n",
       "3           3       5  зависать 1 работа антивирус ранее пользоваться...\n",
       "4           4       5                             удобно работать быстро"
      ]
     },
     "execution_count": 8,
     "metadata": {},
     "output_type": "execute_result"
    }
   ],
   "source": [
    "df_train.head()"
   ]
  },
  {
   "cell_type": "code",
   "execution_count": 9,
   "id": "0efed4b4",
   "metadata": {},
   "outputs": [
    {
     "data": {
      "text/html": [
       "<div>\n",
       "<style scoped>\n",
       "    .dataframe tbody tr th:only-of-type {\n",
       "        vertical-align: middle;\n",
       "    }\n",
       "\n",
       "    .dataframe tbody tr th {\n",
       "        vertical-align: top;\n",
       "    }\n",
       "\n",
       "    .dataframe thead th {\n",
       "        text-align: right;\n",
       "    }\n",
       "</style>\n",
       "<table border=\"1\" class=\"dataframe\">\n",
       "  <thead>\n",
       "    <tr style=\"text-align: right;\">\n",
       "      <th></th>\n",
       "      <th>Unnamed: 0</th>\n",
       "      <th>Rating</th>\n",
       "      <th>Content</th>\n",
       "    </tr>\n",
       "  </thead>\n",
       "  <tbody>\n",
       "    <tr>\n",
       "      <th>0</th>\n",
       "      <td>19659</td>\n",
       "      <td>4</td>\n",
       "      <td>дизайннеудобный инекрасивый резать глаз разноц...</td>\n",
       "    </tr>\n",
       "    <tr>\n",
       "      <th>1</th>\n",
       "      <td>19660</td>\n",
       "      <td>5</td>\n",
       "      <td>быстро качественно удобно</td>\n",
       "    </tr>\n",
       "    <tr>\n",
       "      <th>2</th>\n",
       "      <td>19661</td>\n",
       "      <td>1</td>\n",
       "      <td>поганый приложение постоянно запускаться жрать...</td>\n",
       "    </tr>\n",
       "    <tr>\n",
       "      <th>3</th>\n",
       "      <td>19662</td>\n",
       "      <td>4</td>\n",
       "      <td>общий работать</td>\n",
       "    </tr>\n",
       "    <tr>\n",
       "      <th>4</th>\n",
       "      <td>19663</td>\n",
       "      <td>5</td>\n",
       "      <td>целое удобно</td>\n",
       "    </tr>\n",
       "  </tbody>\n",
       "</table>\n",
       "</div>"
      ],
      "text/plain": [
       "   Unnamed: 0  Rating                                            Content\n",
       "0       19659       4  дизайннеудобный инекрасивый резать глаз разноц...\n",
       "1       19660       5                          быстро качественно удобно\n",
       "2       19661       1  поганый приложение постоянно запускаться жрать...\n",
       "3       19662       4                                     общий работать\n",
       "4       19663       5                                       целое удобно"
      ]
     },
     "execution_count": 9,
     "metadata": {},
     "output_type": "execute_result"
    }
   ],
   "source": [
    "df_test.head()"
   ]
  },
  {
   "cell_type": "code",
   "execution_count": 10,
   "id": "5bf3c656",
   "metadata": {},
   "outputs": [],
   "source": [
    "sw = set(get_stop_words(\"ru\"))\n",
    "exclude = set(punctuation)\n",
    "morpher = MorphAnalyzer()\n",
    "\n",
    "def preprocess_text(txt):\n",
    "    txt = str(txt)\n",
    "    txt = \"\".join(c for c in txt if c not in exclude)\n",
    "    txt = txt.lower()\n",
    "    txt = re.sub(\"\\sне\", \"не\", txt)\n",
    "    txt = [morpher.parse(word)[0].normal_form for word in txt.split() if word not in sw]\n",
    "    return \" \".join(txt)\n",
    "\n",
    "df_train['Content'] = df_train['Content'].apply(preprocess_text)\n",
    "df_val['Content'] = df_val['Content'].apply(preprocess_text)\n",
    "df_test['Content'] = df_test['Content'].apply(preprocess_text)"
   ]
  },
  {
   "cell_type": "code",
   "execution_count": 11,
   "id": "474a9c73",
   "metadata": {},
   "outputs": [],
   "source": [
    "train_corpus = \" \".join(df_train[\"Content\"])\n",
    "train_corpus = train_corpus.lower()"
   ]
  },
  {
   "cell_type": "code",
   "execution_count": 12,
   "id": "d9139153",
   "metadata": {},
   "outputs": [
    {
     "name": "stderr",
     "output_type": "stream",
     "text": [
      "[nltk_data] Downloading package punkt to\n",
      "[nltk_data]     C:\\Users\\AVB\\AppData\\Roaming\\nltk_data...\n",
      "[nltk_data]   Package punkt is already up-to-date!\n"
     ]
    }
   ],
   "source": [
    "nltk.download(\"punkt\")\n",
    "tokens = word_tokenize(train_corpus)"
   ]
  },
  {
   "cell_type": "markdown",
   "id": "017f08df",
   "metadata": {},
   "source": [
    "Отфильтруем данные и соберём в корпус N наиболее частых токенов"
   ]
  },
  {
   "cell_type": "code",
   "execution_count": 13,
   "id": "07d5b590",
   "metadata": {},
   "outputs": [],
   "source": [
    "tokens_filtered = [word for word in tokens if word.isalnum()]"
   ]
  },
  {
   "cell_type": "code",
   "execution_count": 14,
   "id": "1611abb0",
   "metadata": {},
   "outputs": [],
   "source": [
    "from nltk.probability import FreqDist\n",
    "dist = FreqDist(tokens_filtered)\n",
    "tokens_filtered_top = [pair[0] for pair in dist.most_common(max_words-1)]\n",
    "\n",
    "tokens_filtered_top[10:]\n",
    "vocabulary = {v: k for k, v in dict(enumerate(tokens_filtered_top, 1)).items()}"
   ]
  },
  {
   "cell_type": "code",
   "execution_count": 15,
   "id": "c3c7add9",
   "metadata": {},
   "outputs": [],
   "source": [
    "def text_to_sequence(text, maxlen):\n",
    "    result = []\n",
    "    tokens = word_tokenize(text.lower())\n",
    "    tokens_filtered = [word for word in tokens if word.isalnum()]\n",
    "    for word in tokens_filtered:\n",
    "        if word in vocabulary:\n",
    "            result.append(vocabulary[word])\n",
    "    padding = [0]*(maxlen-len(result))\n",
    "    return padding + result[-maxlen:]"
   ]
  },
  {
   "cell_type": "code",
   "execution_count": 16,
   "id": "714648c2",
   "metadata": {},
   "outputs": [],
   "source": [
    "x_train = np.asarray([text_to_sequence(text, max_len) for text in df_train[\"Content\"]], dtype=np.int32)\n",
    "x_test = np.asarray([text_to_sequence(text, max_len) for text in df_test[\"Content\"]], dtype=np.int32)\n",
    "x_val = np.asarray([text_to_sequence(text, max_len) for text in df_val[\"Content\"]], dtype=np.int32)"
   ]
  },
  {
   "cell_type": "code",
   "execution_count": 17,
   "id": "f397eeda",
   "metadata": {},
   "outputs": [
    {
     "data": {
      "text/plain": [
       "(19659, 40)"
      ]
     },
     "execution_count": 17,
     "metadata": {},
     "output_type": "execute_result"
    }
   ],
   "source": [
    "x_train.shape"
   ]
  },
  {
   "cell_type": "code",
   "execution_count": 18,
   "id": "f10aad8e",
   "metadata": {},
   "outputs": [
    {
     "data": {
      "text/plain": [
       "array([   0,    0,    0,    0,    0,    0,    0,    0,    0,    0,    0,\n",
       "          0,    0,    0,    0,    0,    0,    0,    0,    0,    0,    0,\n",
       "          0,    0,    0,    0,    0,    0,    0,    0,    0,   98,  121,\n",
       "        105,   75, 1343,  103,   15,  591,  425])"
      ]
     },
     "execution_count": 18,
     "metadata": {},
     "output_type": "execute_result"
    }
   ],
   "source": [
    "x_train[1]"
   ]
  },
  {
   "cell_type": "code",
   "execution_count": 19,
   "id": "5f9fb1e9",
   "metadata": {},
   "outputs": [],
   "source": [
    "seed = 0\n",
    "\n",
    "random.seed(seed)\n",
    "np.random.seed(seed)\n",
    "torch.manual_seed(seed)\n",
    "torch.cuda.manual_seed(seed)\n",
    "torch.backends.cudnn.deterministic = True"
   ]
  },
  {
   "cell_type": "code",
   "execution_count": 20,
   "id": "4e9e07ed",
   "metadata": {},
   "outputs": [],
   "source": [
    "class Net(nn.Module):\n",
    "    def __init__(self, vocab_size=20, embedding_dim = 128, out_channel = 128, num_classes = 1):\n",
    "        super().__init__()\n",
    "        self.embedding = nn.Embedding(vocab_size, embedding_dim)\n",
    "        self.conv = nn.Conv1d(embedding_dim, out_channel, kernel_size=3)\n",
    "        self.relu = nn.ReLU()\n",
    "        self.linear = nn.Linear(out_channel, num_classes)\n",
    "        \n",
    "    def forward(self, x):        \n",
    "        output = self.embedding(x)\n",
    "        #                       B  F  L         \n",
    "        output = output.permute(0, 2, 1)\n",
    "        output = self.conv(output)\n",
    "        output = self.relu(output)\n",
    "        output = torch.max(output, axis=2).values\n",
    "        output = self.linear(output)\n",
    "        \n",
    "        return output"
   ]
  },
  {
   "cell_type": "code",
   "execution_count": 21,
   "id": "c29d4ae7",
   "metadata": {},
   "outputs": [],
   "source": [
    "class DataWrapper(Dataset):\n",
    "    def __init__(self, data, target=None, transform=None):\n",
    "        self.data = torch.from_numpy(data).long()\n",
    "        if target is not None:\n",
    "            self.target = torch.from_numpy(target).long()\n",
    "        self.transform = transform\n",
    "        \n",
    "    def __getitem__(self, index):\n",
    "        x = self.data[index]\n",
    "        y = self.target[index] if self.target is not None else None\n",
    "        \n",
    "        if self.transform:\n",
    "            x = self.transform(x)\n",
    "            \n",
    "        return x, y\n",
    "    \n",
    "    def __len__(self):\n",
    "        return len(self.data)"
   ]
  },
  {
   "cell_type": "code",
   "execution_count": 22,
   "id": "3cc18b21",
   "metadata": {},
   "outputs": [
    {
     "name": "stdout",
     "output_type": "stream",
     "text": [
      "Net(\n",
      "  (embedding): Embedding(2000, 128)\n",
      "  (conv): Conv1d(128, 128, kernel_size=(3,), stride=(1,))\n",
      "  (relu): ReLU()\n",
      "  (linear): Linear(in_features=128, out_features=1, bias=True)\n",
      ")\n",
      "Parameters: 305409\n",
      "Train epoch 1/20\n",
      "Step 0: loss=-1.696341872215271\n",
      "Train epoch 2/20\n",
      "Step 0: loss=-26872.244140625\n",
      "Train epoch 3/20\n",
      "Step 0: loss=-266715.5\n",
      "Train epoch 4/20\n",
      "Step 0: loss=-1161704.125\n",
      "Train epoch 5/20\n",
      "Step 0: loss=-3233557.5\n",
      "Train epoch 6/20\n",
      "Step 0: loss=-6872014.5\n",
      "Train epoch 7/20\n",
      "Step 0: loss=-13037489.0\n",
      "Train epoch 8/20\n",
      "Step 0: loss=-22174294.0\n",
      "Train epoch 9/20\n",
      "Step 0: loss=-32938944.0\n",
      "Train epoch 10/20\n",
      "Step 0: loss=-46962496.0\n",
      "Train epoch 11/20\n",
      "Step 0: loss=-69861224.0\n",
      "Train epoch 12/20\n",
      "Step 0: loss=-89509544.0\n",
      "Train epoch 13/20\n",
      "Step 0: loss=-121419064.0\n",
      "Train epoch 14/20\n",
      "Step 0: loss=-156594592.0\n",
      "Train epoch 15/20\n",
      "Step 0: loss=-192120432.0\n",
      "Train epoch 16/20\n",
      "Step 0: loss=-236812288.0\n",
      "Train epoch 17/20\n",
      "Step 0: loss=-288279616.0\n",
      "Train epoch 18/20\n",
      "Step 0: loss=-368675488.0\n",
      "Train epoch 19/20\n",
      "Step 0: loss=-423183200.0\n",
      "Train epoch 20/20\n",
      "Step 0: loss=-473386848.0\n"
     ]
    }
   ],
   "source": [
    "model = Net(vocab_size=max_words)\n",
    "\n",
    "print(model)\n",
    "print(\"Parameters:\", sum([param.nelement() for param in model.parameters()]))\n",
    "\n",
    "model.train()\n",
    "#model = model.cuda()\n",
    "\n",
    "optimizer = torch.optim.Adam(model.parameters(), lr=10e-3)\n",
    "criterion = nn.BCEWithLogitsLoss()\n",
    "\n",
    "    \n",
    "train_dataset = DataWrapper(x_train, df_train['Rating'].values)\n",
    "train_loader = DataLoader(train_dataset, batch_size=batch_size, shuffle=True)\n",
    "\n",
    "val_dataset = DataWrapper(x_val, df_val['Rating'].values)\n",
    "val_loader = DataLoader(val_dataset, batch_size=batch_size, shuffle=True)\n",
    "\n",
    "loss_history = []\n",
    "\n",
    "for epoch in range(1, epochs + 1):\n",
    "    print(f\"Train epoch {epoch}/{epochs}\")\n",
    "    for i, (data, target) in enumerate(train_loader):\n",
    "        optimizer.zero_grad()\n",
    "        \n",
    "        # data = data.cuda()\n",
    "        # target = target.cuda()\n",
    "        \n",
    "        # compute output\n",
    "        output = model(data)\n",
    "        \n",
    "        # compute gradient and do SGD step\n",
    "        loss = criterion(output, target.float().view(-1, 1))\n",
    "        loss.backward()\n",
    "        \n",
    "        optimizer.step()\n",
    "        \n",
    "        if i%print_batch_n == 0:\n",
    "            loss = loss.float().item()\n",
    "            print(\"Step {}: loss={}\".format(i, loss))\n",
    "            loss_history.append(loss)"
   ]
  },
  {
   "cell_type": "code",
   "execution_count": 23,
   "id": "903a96c2",
   "metadata": {},
   "outputs": [
    {
     "data": {
      "image/png": "[encoded data removed]",
      "text/plain": [
       "<Figure size 432x288 with 1 Axes>"
      ]
     },
     "metadata": {
      "needs_background": "light"
     },
     "output_type": "display_data"
    }
   ],
   "source": [
    "plt.title('Loss history')\n",
    "plt.grid(True)\n",
    "plt.ylabel('Train loss')\n",
    "plt.xlabel('Step')\n",
    "plt.plot(loss_history);"
   ]
  },
  {
   "cell_type": "code",
   "execution_count": 24,
   "id": "f6e56d63",
   "metadata": {},
   "outputs": [],
   "source": [
    "test_dataset = DataWrapper(x_test)\n",
    "test_loader = DataLoader(test_dataset, batch_size=batch_size, shuffle=True)"
   ]
  },
  {
   "cell_type": "code",
   "execution_count": null,
   "id": "1fff71f2",
   "metadata": {},
   "outputs": [],
   "source": []
  }
 ],
 "metadata": {
  "kernelspec": {
   "display_name": "Python 3 (ipykernel)",
   "language": "python",
   "name": "python3"
  },
  "language_info": {
   "codemirror_mode": {
    "name": "ipython",
    "version": 3
   },
   "file_extension": ".py",
   "mimetype": "text/x-python",
   "name": "python",
   "nbconvert_exporter": "python",
   "pygments_lexer": "ipython3",
   "version": "3.8.5"
  }
 },
 "nbformat": 4,
 "nbformat_minor": 5
}
