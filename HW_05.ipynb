{
 "cells": [
  {
   "cell_type": "markdown",
   "id": "fc1cba72",
   "metadata": {},
   "source": [
    "### Домашняя работа к уроку 5\n",
    "\n",
    "Обучить GRU, LSTM для предсказания временного ряда на примере https://www.kaggle.com/c/favorita-grocery-sales-forecasting (для каждого типа продуктов)"
   ]
  },
  {
   "cell_type": "code",
   "execution_count": 1,
   "id": "937ddbcf",
   "metadata": {},
   "outputs": [],
   "source": [
    "import torch\n",
    "import torch.nn as nn\n",
    "\n",
    "import seaborn as sns\n",
    "import numpy as np\n",
    "import pandas as pd\n",
    "\n",
    "from sklearn.preprocessing import MinMaxScaler"
   ]
  },
  {
   "cell_type": "code",
   "execution_count": 2,
   "id": "47d51575",
   "metadata": {},
   "outputs": [],
   "source": [
    "df = pd.read_csv(\"data4/train.csv\")"
   ]
  },
  {
   "cell_type": "code",
   "execution_count": 3,
   "id": "ac618645",
   "metadata": {},
   "outputs": [
    {
     "data": {
      "text/html": [
       "<div>\n",
       "<style scoped>\n",
       "    .dataframe tbody tr th:only-of-type {\n",
       "        vertical-align: middle;\n",
       "    }\n",
       "\n",
       "    .dataframe tbody tr th {\n",
       "        vertical-align: top;\n",
       "    }\n",
       "\n",
       "    .dataframe thead th {\n",
       "        text-align: right;\n",
       "    }\n",
       "</style>\n",
       "<table border=\"1\" class=\"dataframe\">\n",
       "  <thead>\n",
       "    <tr style=\"text-align: right;\">\n",
       "      <th></th>\n",
       "      <th>id</th>\n",
       "      <th>date</th>\n",
       "      <th>store_nbr</th>\n",
       "      <th>item_nbr</th>\n",
       "      <th>unit_sales</th>\n",
       "      <th>onpromotion</th>\n",
       "    </tr>\n",
       "  </thead>\n",
       "  <tbody>\n",
       "    <tr>\n",
       "      <th>0</th>\n",
       "      <td>0</td>\n",
       "      <td>2013-01-01</td>\n",
       "      <td>25</td>\n",
       "      <td>103665</td>\n",
       "      <td>7.0</td>\n",
       "      <td>NaN</td>\n",
       "    </tr>\n",
       "    <tr>\n",
       "      <th>1</th>\n",
       "      <td>1</td>\n",
       "      <td>2013-01-01</td>\n",
       "      <td>25</td>\n",
       "      <td>105574</td>\n",
       "      <td>1.0</td>\n",
       "      <td>NaN</td>\n",
       "    </tr>\n",
       "    <tr>\n",
       "      <th>2</th>\n",
       "      <td>2</td>\n",
       "      <td>2013-01-01</td>\n",
       "      <td>25</td>\n",
       "      <td>105575</td>\n",
       "      <td>2.0</td>\n",
       "      <td>NaN</td>\n",
       "    </tr>\n",
       "    <tr>\n",
       "      <th>3</th>\n",
       "      <td>3</td>\n",
       "      <td>2013-01-01</td>\n",
       "      <td>25</td>\n",
       "      <td>108079</td>\n",
       "      <td>1.0</td>\n",
       "      <td>NaN</td>\n",
       "    </tr>\n",
       "    <tr>\n",
       "      <th>4</th>\n",
       "      <td>4</td>\n",
       "      <td>2013-01-01</td>\n",
       "      <td>25</td>\n",
       "      <td>108701</td>\n",
       "      <td>1.0</td>\n",
       "      <td>NaN</td>\n",
       "    </tr>\n",
       "  </tbody>\n",
       "</table>\n",
       "</div>"
      ],
      "text/plain": [
       "   id        date  store_nbr  item_nbr  unit_sales  onpromotion\n",
       "0   0  2013-01-01         25    103665         7.0          NaN\n",
       "1   1  2013-01-01         25    105574         1.0          NaN\n",
       "2   2  2013-01-01         25    105575         2.0          NaN\n",
       "3   3  2013-01-01         25    108079         1.0          NaN\n",
       "4   4  2013-01-01         25    108701         1.0          NaN"
      ]
     },
     "execution_count": 3,
     "metadata": {},
     "output_type": "execute_result"
    }
   ],
   "source": [
    "df.head(5)"
   ]
  },
  {
   "cell_type": "markdown",
   "id": "ad2bc06c",
   "metadata": {},
   "source": [
    "#### Подготавливаем данные"
   ]
  },
  {
   "cell_type": "code",
   "execution_count": 4,
   "id": "292098dc",
   "metadata": {},
   "outputs": [
    {
     "data": {
      "text/html": [
       "<div>\n",
       "<style scoped>\n",
       "    .dataframe tbody tr th:only-of-type {\n",
       "        vertical-align: middle;\n",
       "    }\n",
       "\n",
       "    .dataframe tbody tr th {\n",
       "        vertical-align: top;\n",
       "    }\n",
       "\n",
       "    .dataframe thead th {\n",
       "        text-align: right;\n",
       "    }\n",
       "</style>\n",
       "<table border=\"1\" class=\"dataframe\">\n",
       "  <thead>\n",
       "    <tr style=\"text-align: right;\">\n",
       "      <th></th>\n",
       "      <th>store_nbr</th>\n",
       "      <th>item_nbr</th>\n",
       "      <th>unit_sales</th>\n",
       "    </tr>\n",
       "  </thead>\n",
       "  <tbody>\n",
       "    <tr>\n",
       "      <th>0</th>\n",
       "      <td>25</td>\n",
       "      <td>103665</td>\n",
       "      <td>7.0</td>\n",
       "    </tr>\n",
       "    <tr>\n",
       "      <th>1</th>\n",
       "      <td>25</td>\n",
       "      <td>105574</td>\n",
       "      <td>1.0</td>\n",
       "    </tr>\n",
       "    <tr>\n",
       "      <th>2</th>\n",
       "      <td>25</td>\n",
       "      <td>105575</td>\n",
       "      <td>2.0</td>\n",
       "    </tr>\n",
       "    <tr>\n",
       "      <th>3</th>\n",
       "      <td>25</td>\n",
       "      <td>108079</td>\n",
       "      <td>1.0</td>\n",
       "    </tr>\n",
       "    <tr>\n",
       "      <th>4</th>\n",
       "      <td>25</td>\n",
       "      <td>108701</td>\n",
       "      <td>1.0</td>\n",
       "    </tr>\n",
       "  </tbody>\n",
       "</table>\n",
       "</div>"
      ],
      "text/plain": [
       "   store_nbr  item_nbr  unit_sales\n",
       "0         25    103665         7.0\n",
       "1         25    105574         1.0\n",
       "2         25    105575         2.0\n",
       "3         25    108079         1.0\n",
       "4         25    108701         1.0"
      ]
     },
     "execution_count": 4,
     "metadata": {},
     "output_type": "execute_result"
    }
   ],
   "source": [
    "df = df.drop(['id', 'date', 'onpromotion' ], axis='columns')\n",
    "df.head(5)"
   ]
  },
  {
   "cell_type": "code",
   "execution_count": 5,
   "id": "78a14e29",
   "metadata": {},
   "outputs": [
    {
     "data": {
      "text/plain": [
       "(3000, 3)"
      ]
     },
     "execution_count": 5,
     "metadata": {},
     "output_type": "execute_result"
    }
   ],
   "source": [
    "df.shape"
   ]
  },
  {
   "cell_type": "code",
   "execution_count": 6,
   "id": "d1e002b9",
   "metadata": {},
   "outputs": [
    {
     "data": {
      "text/plain": [
       "Index(['store_nbr', 'item_nbr', 'unit_sales'], dtype='object')"
      ]
     },
     "execution_count": 6,
     "metadata": {},
     "output_type": "execute_result"
    }
   ],
   "source": [
    "df.columns"
   ]
  },
  {
   "cell_type": "markdown",
   "id": "d3226af0",
   "metadata": {},
   "source": [
    "##### Изменяем тип столбца unit_sales на float"
   ]
  },
  {
   "cell_type": "code",
   "execution_count": 7,
   "id": "f9857902",
   "metadata": {},
   "outputs": [
    {
     "name": "stdout",
     "output_type": "stream",
     "text": [
      "[ 7.  1.  2. ... 14. 23. 18.]\n"
     ]
    }
   ],
   "source": [
    "all_data = df['unit_sales'].values.astype(float)\n",
    "print(all_data)"
   ]
  },
  {
   "cell_type": "markdown",
   "id": "9ae27707",
   "metadata": {},
   "source": [
    "#### Подрезал данные до 3000 записей чтобы не тормазило и разделил на train и test"
   ]
  },
  {
   "cell_type": "code",
   "execution_count": 8,
   "id": "19be2964",
   "metadata": {},
   "outputs": [],
   "source": [
    "test_data_size = 300\n",
    "\n",
    "train_data = all_data[:-test_data_size]\n",
    "test_data = all_data[-test_data_size:]"
   ]
  },
  {
   "cell_type": "code",
   "execution_count": 9,
   "id": "ea4fe2ae",
   "metadata": {},
   "outputs": [
    {
     "name": "stdout",
     "output_type": "stream",
     "text": [
      "2700\n",
      "300\n"
     ]
    }
   ],
   "source": [
    "print(len(train_data))\n",
    "print(len(test_data))"
   ]
  },
  {
   "cell_type": "code",
   "execution_count": 10,
   "id": "3a9591e1",
   "metadata": {},
   "outputs": [
    {
     "name": "stdout",
     "output_type": "stream",
     "text": [
      "[ 36.     21.      6.      2.     12.     36.     11.      2.      9.\n",
      "  15.     11.     18.    135.003   4.      5.     20.     98.     16.\n",
      "  46.     27.      2.     22.     19.     62.      7.      9.      9.\n",
      "  12.     14.     55.     50.     51.     39.      3.     13.    119.\n",
      "  33.     17.      6.      8.     25.      2.      9.      2.      9.\n",
      "   8.     15.     24.      3.     13.      1.     18.     10.      6.\n",
      "  43.     16.     19.     10.     72.     18.     15.      7.      6.\n",
      "   1.      8.      3.      3.     32.     17.      9.     11.      9.\n",
      "  11.    141.47   45.      3.      8.     20.     18.      9.      8.\n",
      "   2.    134.     18.     24.     27.     15.     24.     13.     18.\n",
      "  91.     54.      8.      3.     17.      1.     10.      4.     29.\n",
      "   1.     18.      1.      5.     23.      4.      9.     27.     18.\n",
      "   3.     18.    121.     22.     20.     15.     16.      6.291   6.675\n",
      "   2.      9.     12.      8.      9.     16.      4.      2.     11.\n",
      "  13.     34.     19.     16.     49.      1.      9.     14.      5.\n",
      "  14.      5.     77.     10.     13.      5.     56.     67.     83.\n",
      "  16.     16.     24.      6.     18.      8.      7.     25.      7.\n",
      "  34.     41.     34.      7.      3.     38.939  22.     35.      7.\n",
      "   3.      2.      6.    108.     33.     13.     13.      3.     47.\n",
      "  27.      8.     15.     26.     92.     67.      8.      5.     18.\n",
      "   9.      4.     16.     31.     32.     13.     11.     20.     24.\n",
      "  46.     93.     11.     12.     40.     39.      4.     86.      8.\n",
      "   3.     29.     10.      8.     38.     11.      6.      4.      7.\n",
      "   1.      2.      4.     43.     34.      6.      4.      4.     12.\n",
      "   7.      5.     18.      2.      9.     16.     17.    108.      5.\n",
      "  11.    105.     22.     13.      4.      4.      4.      7.      7.\n",
      "   7.     39.     12.     37.     10.     33.636   8.      2.      1.\n",
      " 143.     12.     21.      9.    130.     49.     98.     66.     29.\n",
      "  10.     16.      5.      3.     35.      5.     19.     16.     26.\n",
      "  29.      7.      2.     37.     25.      3.      6.     29.     21.\n",
      "  14.     27.     78.      5.      1.     17.     32.      5.     42.\n",
      "   1.      1.     18.      6.     11.     25.     16.      8.      6.\n",
      "   2.      5.     16.     26.     15.      2.     37.     43.     78.\n",
      "  14.     23.     18.   ]\n"
     ]
    }
   ],
   "source": [
    "print(test_data)"
   ]
  },
  {
   "cell_type": "markdown",
   "id": "1891e1c1",
   "metadata": {},
   "source": [
    "#### Нормализуем данные с помощью скалера min/max"
   ]
  },
  {
   "cell_type": "code",
   "execution_count": 11,
   "id": "cac7e32a",
   "metadata": {},
   "outputs": [
    {
     "name": "stdout",
     "output_type": "stream",
     "text": [
      "[[-0.93719636]\n",
      " [-0.99303836]\n",
      " [-0.98373136]\n",
      " [-0.99303836]\n",
      " [-0.99303836]]\n",
      "[[-0.97442436]\n",
      " [-0.92788936]\n",
      " [-0.96511736]\n",
      " [-0.93719636]\n",
      " [-0.94650336]]\n"
     ]
    }
   ],
   "source": [
    "scaler = MinMaxScaler(feature_range=(-1, 1))\n",
    "train_data_normalized = scaler.fit_transform(train_data .reshape(-1, 1))\n",
    "\n",
    "print(train_data_normalized[:5])\n",
    "print(train_data_normalized[-5:])"
   ]
  },
  {
   "cell_type": "markdown",
   "id": "766a456e",
   "metadata": {},
   "source": [
    "#### Преобразовываем набора данных в тензоры для использования в PyTorch."
   ]
  },
  {
   "cell_type": "code",
   "execution_count": 12,
   "id": "31826577",
   "metadata": {},
   "outputs": [],
   "source": [
    "train_data_normalized = torch.FloatTensor(train_data_normalized).view(-1)"
   ]
  },
  {
   "cell_type": "code",
   "execution_count": 13,
   "id": "3afbf445",
   "metadata": {},
   "outputs": [],
   "source": [
    "train_window = 12"
   ]
  },
  {
   "cell_type": "code",
   "execution_count": 14,
   "id": "8ff205a6",
   "metadata": {},
   "outputs": [],
   "source": [
    "def create_inout_sequences(input_data, tw):\n",
    "    inout_seq = []\n",
    "    L = len(input_data)\n",
    "    for i in range(L-tw):\n",
    "        train_seq = input_data[i:i+tw]\n",
    "        train_label = input_data[i+tw:i+tw+1]\n",
    "        inout_seq.append((train_seq ,train_label))\n",
    "    return inout_seq"
   ]
  },
  {
   "cell_type": "code",
   "execution_count": 15,
   "id": "8cbf3dfe",
   "metadata": {},
   "outputs": [],
   "source": [
    "train_inout_seq = create_inout_sequences(train_data_normalized, train_window)"
   ]
  },
  {
   "cell_type": "code",
   "execution_count": 16,
   "id": "f04fccdd",
   "metadata": {},
   "outputs": [
    {
     "data": {
      "text/plain": [
       "[(tensor([-0.9372, -0.9930, -0.9837, -0.9930, -0.9930, -0.9744, -0.9930, -0.9930,\n",
       "          -0.8814, -0.9744, -0.9930, -0.9930]),\n",
       "  tensor([-0.9930])),\n",
       " (tensor([-0.9930, -0.9837, -0.9930, -0.9930, -0.9744, -0.9930, -0.9930, -0.8814,\n",
       "          -0.9744, -0.9930, -0.9930, -0.9930]),\n",
       "  tensor([-0.9930])),\n",
       " (tensor([-0.9837, -0.9930, -0.9930, -0.9744, -0.9930, -0.9930, -0.8814, -0.9744,\n",
       "          -0.9930, -0.9930, -0.9930, -0.9930]),\n",
       "  tensor([-0.9558])),\n",
       " (tensor([-0.9930, -0.9930, -0.9744, -0.9930, -0.9930, -0.8814, -0.9744, -0.9930,\n",
       "          -0.9930, -0.9930, -0.9930, -0.9558]),\n",
       "  tensor([-0.9930])),\n",
       " (tensor([-0.9930, -0.9744, -0.9930, -0.9930, -0.8814, -0.9744, -0.9930, -0.9930,\n",
       "          -0.9930, -0.9930, -0.9558, -0.9930]),\n",
       "  tensor([-0.9465]))]"
      ]
     },
     "execution_count": 16,
     "metadata": {},
     "output_type": "execute_result"
    }
   ],
   "source": [
    "train_inout_seq[:5]"
   ]
  },
  {
   "cell_type": "markdown",
   "id": "a83998aa",
   "metadata": {},
   "source": [
    "### LSTM"
   ]
  },
  {
   "cell_type": "code",
   "execution_count": 17,
   "id": "afd03b1e",
   "metadata": {},
   "outputs": [],
   "source": [
    "class LSTM(nn.Module):\n",
    "    def __init__(self, input_size=1, hidden_layer_size=100, output_size=1):\n",
    "        super().__init__()\n",
    "        self.hidden_layer_size = hidden_layer_size\n",
    "        self.lstm = nn.LSTM(input_size, hidden_layer_size)\n",
    "        self.linear = nn.Linear(hidden_layer_size, output_size)\n",
    "        self.hidden_cell = (torch.zeros(1,1,self.hidden_layer_size),\n",
    "                            torch.zeros(1,1,self.hidden_layer_size))\n",
    "\n",
    "    def forward(self, input_seq):\n",
    "        lstm_out, self.hidden_cell = self.lstm(input_seq.view(len(input_seq) ,1, -1), self.hidden_cell)\n",
    "        predictions = self.linear(lstm_out.view(len(input_seq), -1))\n",
    "        return predictions[-1]"
   ]
  },
  {
   "cell_type": "code",
   "execution_count": 18,
   "id": "1f18a921",
   "metadata": {},
   "outputs": [],
   "source": [
    "model = LSTM()\n",
    "loss_function = nn.MSELoss()\n",
    "optimizer = torch.optim.Adam(model.parameters(), lr=0.001)"
   ]
  },
  {
   "cell_type": "code",
   "execution_count": 19,
   "id": "c01cbfbb",
   "metadata": {},
   "outputs": [
    {
     "name": "stdout",
     "output_type": "stream",
     "text": [
      "LSTM(\n",
      "  (lstm): LSTM(1, 100)\n",
      "  (linear): Linear(in_features=100, out_features=1, bias=True)\n",
      ")\n"
     ]
    }
   ],
   "source": [
    "print(model)"
   ]
  },
  {
   "cell_type": "code",
   "execution_count": 20,
   "id": "aea86b8a",
   "metadata": {},
   "outputs": [
    {
     "name": "stdout",
     "output_type": "stream",
     "text": [
      "epoch:   1 loss: 0.00122883\n",
      "epoch:   9 loss: 0.0006672089\n"
     ]
    }
   ],
   "source": [
    "epochs = 10\n",
    "\n",
    "for i in range(epochs):\n",
    "    for seq, labels in train_inout_seq:\n",
    "        optimizer.zero_grad()\n",
    "        model.hidden_cell = (torch.zeros(1, 1, model.hidden_layer_size),\n",
    "                        torch.zeros(1, 1, model.hidden_layer_size))\n",
    "\n",
    "        y_pred = model(seq)\n",
    "\n",
    "        single_loss = loss_function(y_pred, labels)\n",
    "        single_loss.backward()\n",
    "        optimizer.step()\n",
    "\n",
    "    if i%25 == 1:\n",
    "        print(f'epoch: {i:3} loss: {single_loss.item():10.8f}')\n",
    "\n",
    "print(f'epoch: {i:3} loss: {single_loss.item():10.10f}')"
   ]
  },
  {
   "cell_type": "code",
   "execution_count": 21,
   "id": "a3f4b4fe",
   "metadata": {},
   "outputs": [
    {
     "name": "stdout",
     "output_type": "stream",
     "text": [
      "[-0.8068983554840088, -0.927889347076416, -0.9837313890457153, -0.9930383563041687, -0.8068983554840088, -0.9744243621826172, -0.9744243621826172, -0.9744243621826172, -0.927889347076416, -0.965117335319519, -0.9371963739395142, -0.9465033411979675]\n"
     ]
    }
   ],
   "source": [
    "fut_pred = 300\n",
    "\n",
    "test_inputs = train_data_normalized[-train_window:].tolist()\n",
    "print(test_inputs)"
   ]
  },
  {
   "cell_type": "code",
   "execution_count": 22,
   "id": "730bea9c",
   "metadata": {},
   "outputs": [],
   "source": [
    "model.eval()\n",
    "\n",
    "for i in range(fut_pred):\n",
    "    seq = torch.FloatTensor(test_inputs[-train_window:])\n",
    "    with torch.no_grad():\n",
    "        model.hidden = (torch.zeros(1, 1, model.hidden_layer_size),\n",
    "                        torch.zeros(1, 1, model.hidden_layer_size))\n",
    "        test_inputs.append(model(seq).item())"
   ]
  },
  {
   "cell_type": "code",
   "execution_count": 23,
   "id": "2df9c17a",
   "metadata": {},
   "outputs": [
    {
     "data": {
      "text/plain": [
       "[-0.9212515950202942,\n",
       " -0.9212515950202942,\n",
       " -0.9212515950202942,\n",
       " -0.9212515950202942,\n",
       " -0.9212515950202942,\n",
       " -0.9212515950202942,\n",
       " -0.9212515950202942,\n",
       " -0.9212515950202942,\n",
       " -0.9212515950202942,\n",
       " -0.9212515950202942,\n",
       " -0.9212515950202942,\n",
       " -0.9212515950202942]"
      ]
     },
     "execution_count": 23,
     "metadata": {},
     "output_type": "execute_result"
    }
   ],
   "source": [
    "test_inputs[fut_pred:]"
   ]
  },
  {
   "cell_type": "markdown",
   "id": "136a5e83",
   "metadata": {},
   "source": [
    "### GRU (просто меняем LSTM на GRU как учили на лекции)"
   ]
  },
  {
   "cell_type": "code",
   "execution_count": 24,
   "id": "f41be880",
   "metadata": {},
   "outputs": [],
   "source": [
    "class GRU(nn.Module):\n",
    "    def __init__(self, input_size=1, hidden_layer_size=100, output_size=1):\n",
    "        super().__init__()\n",
    "        self.hidden_layer_size = hidden_layer_size\n",
    "        self.gru = nn.GRU(input_size, hidden_layer_size)\n",
    "        self.linear = nn.Linear(hidden_layer_size, output_size)\n",
    "        self.hidden_cell = (torch.zeros(1,1,self.hidden_layer_size),\n",
    "                            torch.zeros(1,1,self.hidden_layer_size))\n",
    "\n",
    "    def forward(self, input_seq):\n",
    "        gru_out, self.hidden_cell = self.gru(input_seq.view(len(input_seq) ,1, -1), self.hidden_cell)\n",
    "        predictions = self.linear(gru_out.view(len(input_seq), -1))\n",
    "        return predictions[-1]"
   ]
  },
  {
   "cell_type": "code",
   "execution_count": 25,
   "id": "879bf5ff",
   "metadata": {},
   "outputs": [],
   "source": [
    "model = GRU()\n",
    "loss_function = nn.MSELoss()\n",
    "optimizer = torch.optim.Adam(model.parameters(), lr=0.001)"
   ]
  },
  {
   "cell_type": "code",
   "execution_count": 26,
   "id": "e54fa3c2",
   "metadata": {},
   "outputs": [
    {
     "name": "stdout",
     "output_type": "stream",
     "text": [
      "GRU(\n",
      "  (gru): GRU(1, 100)\n",
      "  (linear): Linear(in_features=100, out_features=1, bias=True)\n",
      ")\n"
     ]
    }
   ],
   "source": [
    "print(model)"
   ]
  },
  {
   "cell_type": "code",
   "execution_count": null,
   "id": "61ec8732",
   "metadata": {},
   "outputs": [],
   "source": [
    "epochs = 10\n",
    "\n",
    "for i in range(epochs):\n",
    "    for seq, labels in train_inout_seq:\n",
    "        optimizer.zero_grad()\n",
    "        model.hidden_cell = (torch.zeros(1, 1, model.hidden_layer_size),\n",
    "                             torch.zeros(1, 1, model.hidden_layer_size))\n",
    "\n",
    "        y_pred = model(seq)\n",
    "\n",
    "        single_loss = loss_function(y_pred, labels)\n",
    "        single_loss.backward()\n",
    "        optimizer.step()\n",
    "\n",
    "    if i%25 == 1:\n",
    "        print(f'epoch: {i:3} loss: {single_loss.item():10.8f}')\n",
    "\n",
    "print(f'epoch: {i:3} loss: {single_loss.item():10.10f}')"
   ]
  },
  {
   "cell_type": "code",
   "execution_count": null,
   "id": "2c920a88",
   "metadata": {},
   "outputs": [],
   "source": []
  }
 ],
 "metadata": {
  "kernelspec": {
   "display_name": "Python 3 (ipykernel)",
   "language": "python",
   "name": "python3"
  },
  "language_info": {
   "codemirror_mode": {
    "name": "ipython",
    "version": 3
   },
   "file_extension": ".py",
   "mimetype": "text/x-python",
   "name": "python",
   "nbconvert_exporter": "python",
   "pygments_lexer": "ipython3",
   "version": "3.8.5"
  }
 },
 "nbformat": 4,
 "nbformat_minor": 5
}
